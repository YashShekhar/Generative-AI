{
  "nbformat": 4,
  "nbformat_minor": 0,
  "metadata": {
    "colab": {
      "provenance": [],
      "authorship_tag": "ABX9TyNYi2LUfuu/u1+6FQHFfsrh",
      "include_colab_link": true
    },
    "kernelspec": {
      "name": "python3",
      "display_name": "Python 3"
    },
    "language_info": {
      "name": "python"
    }
  },
  "cells": [
    {
      "cell_type": "markdown",
      "metadata": {
        "id": "view-in-github",
        "colab_type": "text"
      },
      "source": [
        "<a href=\"https://colab.research.google.com/github/YashShekhar/Generative-AI/blob/main/1_Langchain.ipynb\" target=\"_parent\"><img src=\"https://colab.research.google.com/assets/colab-badge.svg\" alt=\"Open In Colab\"/></a>"
      ]
    },
    {
      "cell_type": "markdown",
      "source": [
        "# Langchain\n",
        "Model, Promt, Prompt Templates and Chain"
      ],
      "metadata": {
        "id": "HJewYN6dqp8l"
      }
    },
    {
      "cell_type": "code",
      "execution_count": 1,
      "metadata": {
        "colab": {
          "base_uri": "https://localhost:8080/"
        },
        "id": "KuUUIUA4j8mr",
        "outputId": "89fca410-af31-475c-f6f9-9a403ae6cd60"
      },
      "outputs": [
        {
          "output_type": "stream",
          "name": "stdout",
          "text": [
            "\u001b[?25l   \u001b[90m━━━━━━━━━━━━━━━━━━━━━━━━━━━━━━━━━━━━━━━━\u001b[0m \u001b[32m0.0/1.0 MB\u001b[0m \u001b[31m?\u001b[0m eta \u001b[36m-:--:--\u001b[0m\r\u001b[2K   \u001b[91m━━━━━━━━━━━━━━━━━━\u001b[0m\u001b[91m╸\u001b[0m\u001b[90m━━━━━━━━━━━━━━━━━━━━━\u001b[0m \u001b[32m0.5/1.0 MB\u001b[0m \u001b[31m13.6 MB/s\u001b[0m eta \u001b[36m0:00:01\u001b[0m\r\u001b[2K   \u001b[90m━━━━━━━━━━━━━━━━━━━━━━━━━━━━━━━━━━━━━━━━\u001b[0m \u001b[32m1.0/1.0 MB\u001b[0m \u001b[31m15.0 MB/s\u001b[0m eta \u001b[36m0:00:00\u001b[0m\n",
            "\u001b[?25h\u001b[?25l   \u001b[90m━━━━━━━━━━━━━━━━━━━━━━━━━━━━━━━━━━━━━━━━\u001b[0m \u001b[32m0.0/124.9 kB\u001b[0m \u001b[31m?\u001b[0m eta \u001b[36m-:--:--\u001b[0m\r\u001b[2K   \u001b[90m━━━━━━━━━━━━━━━━━━━━━━━━━━━━━━━━━━━━━━━━\u001b[0m \u001b[32m124.9/124.9 kB\u001b[0m \u001b[31m6.5 MB/s\u001b[0m eta \u001b[36m0:00:00\u001b[0m\n",
            "\u001b[?25h"
          ]
        }
      ],
      "source": [
        "!pip install -qU \"langchain[groq]\""
      ]
    },
    {
      "cell_type": "code",
      "source": [
        "from google.colab import userdata\n",
        "apiKey = userdata.get('GROQ_API_KEY')"
      ],
      "metadata": {
        "id": "vBbwXGS7lCsq"
      },
      "execution_count": 2,
      "outputs": []
    },
    {
      "cell_type": "code",
      "source": [
        "from langchain.chat_models import init_chat_model\n",
        "model = init_chat_model(\n",
        "    model=\"llama-3.3-70b-versatile\",\n",
        "    model_provider=\"groq\",\n",
        "    api_key=apiKey\n",
        ")"
      ],
      "metadata": {
        "id": "qs3-Mbidk9uC"
      },
      "execution_count": 3,
      "outputs": []
    },
    {
      "cell_type": "code",
      "source": [
        "response = model.invoke(\"Suggest me a title of movie in hindi to watch\")\n",
        "print(response.content)"
      ],
      "metadata": {
        "colab": {
          "base_uri": "https://localhost:8080/"
        },
        "id": "Rl8K3-a3liRI",
        "outputId": "139c10d1-1890-470e-8a47-ec316040cb4a"
      },
      "execution_count": 4,
      "outputs": [
        {
          "output_type": "stream",
          "name": "stdout",
          "text": [
            "Here are a few suggestions for Hindi movies to watch:\n",
            "\n",
            "1. \"3 Idiots\" (2009) - A comedy-drama film that explores the lives of three friends and their experiences in engineering college.\n",
            "2. \"Dilwale Dulhania Le Jayenge\" (1995) - A romantic drama film that tells the story of two young lovers who fall in love on a trip to Europe.\n",
            "3. \"Lagaan\" (2001) - A historical sports drama film that tells the story of a group of villagers who challenge the British colonial authorities to a game of cricket.\n",
            "4. \"Kuch Kuch Hota Hai\" (1998) - A romantic comedy-drama film that explores the relationships between three friends and their experiences with love.\n",
            "5. \"Andhadhun\" (2018) - A black comedy thriller film that tells the story of a blind pianist who becomes embroiled in a murder mystery.\n",
            "\n",
            "Which one of these movies sounds interesting to you?\n",
            "\n",
            "Alternatively, you can also consider some newer releases like:\n",
            "\n",
            "* \"Gully Boy\" (2019)\n",
            "* \"Badhaai Ho\" (2018)\n",
            "* \"Stree\" (2018)\n",
            "* \"Article 15\" (2019)\n",
            "* \"Jabariya Jodi\" (2019)\n",
            "\n",
            "Let me know if you have any specific preferences (genre, actor, etc.) and I can give you more tailored suggestions!\n"
          ]
        }
      ]
    },
    {
      "cell_type": "code",
      "source": [
        "from langchain_core.messages import HumanMessage, SystemMessage\n",
        "\n",
        "messages = [\n",
        "    SystemMessage(\"Translate the following from English to Italian\"),\n",
        "    HumanMessage(\"hi\")\n",
        "]\n",
        "\n",
        "response = model.invoke(messages)\n",
        "print(response.content)"
      ],
      "metadata": {
        "colab": {
          "base_uri": "https://localhost:8080/"
        },
        "id": "4qYxY8qHl_vc",
        "outputId": "fced2840-94c6-43da-e499-bdc223e10ba7"
      },
      "execution_count": 5,
      "outputs": [
        {
          "output_type": "stream",
          "name": "stdout",
          "text": [
            "Ciao!\n"
          ]
        }
      ]
    },
    {
      "cell_type": "code",
      "source": [
        "from langchain_core.prompts import ChatPromptTemplate\n",
        "\n",
        "system_template = \"Translate the following from english to {language}\"\n",
        "\n",
        "prompt_template = ChatPromptTemplate.from_messages(\n",
        "    [\n",
        "        (\"system\", system_template),\n",
        "        (\"user\", \"{text}\")\n",
        "    ]\n",
        ")"
      ],
      "metadata": {
        "id": "c-ZYnclRm-4W"
      },
      "execution_count": 6,
      "outputs": []
    },
    {
      "cell_type": "code",
      "source": [
        "prompt = prompt_template.invoke(\n",
        "    {\n",
        "        \"language\": \"hindi\",\n",
        "        \"text\": \"what is you age\"\n",
        "    }\n",
        ")\n",
        "\n",
        "prompt"
      ],
      "metadata": {
        "colab": {
          "base_uri": "https://localhost:8080/"
        },
        "id": "NkNBUvvjnoLO",
        "outputId": "6e140d67-bd42-4eb4-ebe0-63c4ab7369b0"
      },
      "execution_count": 7,
      "outputs": [
        {
          "output_type": "execute_result",
          "data": {
            "text/plain": [
              "ChatPromptValue(messages=[SystemMessage(content='Translate the following from english to hindi', additional_kwargs={}, response_metadata={}), HumanMessage(content='what is you age', additional_kwargs={}, response_metadata={})])"
            ]
          },
          "metadata": {},
          "execution_count": 7
        }
      ]
    },
    {
      "cell_type": "code",
      "source": [
        "model.invoke(prompt)"
      ],
      "metadata": {
        "colab": {
          "base_uri": "https://localhost:8080/"
        },
        "id": "jn-U67rfnze_",
        "outputId": "aa1e8c9b-c04f-4ea2-d61c-f7fa8d210db2"
      },
      "execution_count": 8,
      "outputs": [
        {
          "output_type": "execute_result",
          "data": {
            "text/plain": [
              "AIMessage(content='आपकी उम्र क्या है?', additional_kwargs={}, response_metadata={'token_usage': {'completion_tokens': 11, 'prompt_tokens': 46, 'total_tokens': 57, 'completion_time': 0.04, 'prompt_time': 0.002310338, 'queue_time': 0.242108346, 'total_time': 0.042310338}, 'model_name': 'llama-3.3-70b-versatile', 'system_fingerprint': 'fp_90c1d253ff', 'finish_reason': 'stop', 'logprobs': None}, id='run-c9d42fae-65bb-4b39-b8bc-7918797f4db9-0', usage_metadata={'input_tokens': 46, 'output_tokens': 11, 'total_tokens': 57})"
            ]
          },
          "metadata": {},
          "execution_count": 8
        }
      ]
    },
    {
      "cell_type": "code",
      "source": [
        "from langchain_core.prompts import PromptTemplate\n",
        "\n",
        "prompt_template = PromptTemplate.from_template(\"Tell me a joke about {topic}\")\n",
        "\n",
        "prompt = prompt_template.invoke({\"topic\": \"cats\"})\n",
        "\n",
        "response = model.invoke(prompt)\n",
        "\n",
        "response.content"
      ],
      "metadata": {
        "colab": {
          "base_uri": "https://localhost:8080/",
          "height": 35
        },
        "id": "KQlJztyHoZyM",
        "outputId": "26a4f4f6-5140-4386-af42-97b4c181bee0"
      },
      "execution_count": 9,
      "outputs": [
        {
          "output_type": "execute_result",
          "data": {
            "text/plain": [
              "'Why did the cat join a band? Because it wanted to be the purr-cussionist.'"
            ],
            "application/vnd.google.colaboratory.intrinsic+json": {
              "type": "string"
            }
          },
          "metadata": {},
          "execution_count": 9
        }
      ]
    },
    {
      "cell_type": "code",
      "source": [
        "movie_title_template = PromptTemplate.from_template(\"Suggest me a title of language {language} and of genre {genre} make sure to give only one suggestion\")\n",
        "\n",
        "movie_title_prompt = movie_title_template.invoke({\n",
        "    \"language\": \"hindi\",\n",
        "    \"genre\": \"comedy\"\n",
        "})\n",
        "\n",
        "response = model.invoke(movie_title_prompt)\n",
        "\n",
        "print(response.content)"
      ],
      "metadata": {
        "colab": {
          "base_uri": "https://localhost:8080/"
        },
        "id": "k6R9a7QDowkN",
        "outputId": "a4fa6db3-a4b2-4bf9-f918-1c71befd9b86"
      },
      "execution_count": 10,
      "outputs": [
        {
          "output_type": "stream",
          "name": "stdout",
          "text": [
            "\"Golmaal\" - This title is in Hindi and falls under the comedy genre, it's also a popular Bollywood movie franchise.\n"
          ]
        }
      ]
    },
    {
      "cell_type": "code",
      "source": [
        "from langchain_core.output_parsers import StrOutputParser\n",
        "\n",
        "movie_title_chain = movie_title_template | model | StrOutputParser()\n",
        "\n",
        "response = movie_title_chain.invoke({\"language\": \"english\", \"genre\":\"horror\"})\n",
        "\n",
        "print(response)"
      ],
      "metadata": {
        "colab": {
          "base_uri": "https://localhost:8080/"
        },
        "id": "LYfVNlBDpYZI",
        "outputId": "14f4d802-594d-4654-87b7-17ad9a44e093"
      },
      "execution_count": 11,
      "outputs": [
        {
          "output_type": "stream",
          "name": "stdout",
          "text": [
            "\"The Shining\"\n"
          ]
        }
      ]
    },
    {
      "cell_type": "code",
      "source": [
        "movie_summary_prompt = PromptTemplate.from_template(\"Give me 2-3 line summary of the movie {movie_title}\")"
      ],
      "metadata": {
        "id": "uuzHW4emplRo"
      },
      "execution_count": 12,
      "outputs": []
    },
    {
      "cell_type": "code",
      "source": [
        "from langchain_core.runnables import RunnableLambda\n",
        "from langchain_core.callbacks.streaming_stdout import StreamingStdOutCallbackHandler\n",
        "\n",
        "print_title_step = RunnableLambda(lambda x : print(x[\"movie_title\"]))\n",
        "\n",
        "composed_chain = {\"movie_title\": movie_title_chain} | print_title_step | movie_summary_prompt | model | StrOutputParser()\n",
        "\n",
        "response = composed_chain.invoke({\"language\": \"english\", \"genre\":\"horror\"})\n",
        "\n",
        "response"
      ],
      "metadata": {
        "colab": {
          "base_uri": "https://localhost:8080/",
          "height": 70
        },
        "id": "HtKEW6Gap7B_",
        "outputId": "de6092c7-b2b6-4c3f-f38b-685a6ce75f1f"
      },
      "execution_count": 13,
      "outputs": [
        {
          "output_type": "stream",
          "name": "stdout",
          "text": [
            "\"The Shining\"\n"
          ]
        },
        {
          "output_type": "execute_result",
          "data": {
            "text/plain": [
              "'There is no information available for a movie titled \"None.\" If you could provide the actual title of the movie, I\\'d be happy to give you a summary. Please let me know the correct title, and I\\'ll do my best to assist you.'"
            ],
            "application/vnd.google.colaboratory.intrinsic+json": {
              "type": "string"
            }
          },
          "metadata": {},
          "execution_count": 13
        }
      ]
    }
  ]
}