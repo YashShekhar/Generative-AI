{
  "nbformat": 4,
  "nbformat_minor": 0,
  "metadata": {
    "colab": {
      "provenance": [],
      "authorship_tag": "ABX9TyPgscOMjzJfQoofvW4GIrJV",
      "include_colab_link": true
    },
    "kernelspec": {
      "name": "python3",
      "display_name": "Python 3"
    },
    "language_info": {
      "name": "python"
    }
  },
  "cells": [
    {
      "cell_type": "markdown",
      "metadata": {
        "id": "view-in-github",
        "colab_type": "text"
      },
      "source": [
        "<a href=\"https://colab.research.google.com/github/YashShekhar/Generative-AI/blob/main/1_Langchain.ipynb\" target=\"_parent\"><img src=\"https://colab.research.google.com/assets/colab-badge.svg\" alt=\"Open In Colab\"/></a>"
      ]
    },
    {
      "cell_type": "markdown",
      "source": [
        "# Langchain\n",
        "Model, Promt, Prompt Templates and Chain"
      ],
      "metadata": {
        "id": "HJewYN6dqp8l"
      }
    },
    {
      "cell_type": "code",
      "execution_count": 4,
      "metadata": {
        "id": "KuUUIUA4j8mr"
      },
      "outputs": [],
      "source": [
        "!pip install -qU \"langchain[groq]\""
      ]
    },
    {
      "cell_type": "code",
      "source": [
        "from google.colab import userdata\n",
        "apiKey = userdata.get('GROQ_API_KEY')"
      ],
      "metadata": {
        "id": "vBbwXGS7lCsq"
      },
      "execution_count": 5,
      "outputs": []
    },
    {
      "cell_type": "code",
      "source": [
        "from langchain.chat_models import init_chat_model\n",
        "model = init_chat_model(\n",
        "    model=\"llama-3.3-70b-versatile\",\n",
        "    model_provider=\"groq\",\n",
        "    api_key=apiKey\n",
        ")"
      ],
      "metadata": {
        "id": "qs3-Mbidk9uC"
      },
      "execution_count": 9,
      "outputs": []
    },
    {
      "cell_type": "code",
      "source": [
        "response = model.invoke(\"Suggest me a title of movie in hindi to watch\")\n",
        "print(response.content)"
      ],
      "metadata": {
        "colab": {
          "base_uri": "https://localhost:8080/"
        },
        "id": "Rl8K3-a3liRI",
        "outputId": "f9d79872-1e5e-43dd-9d74-12bf6d867e1a"
      },
      "execution_count": 18,
      "outputs": [
        {
          "output_type": "stream",
          "name": "stdout",
          "text": [
            "एक अच्छी हिंदी फिल्म का नाम यह है: \n",
            "\n",
            "\"दिलवाले दुल्हनिया ले जाएंगे\" (Dilwale Dulhania Le Jayenge)\n",
            "\n",
            "यह फिल्म एक रोमांटिक कॉमेडी है, जिसमें शाहरुख खान और काजोल ने मुख्य भूमिकाएँ निभाई हैं। यह फिल्म आपको हंसाएगी, रुलाएगी और आपको प्यार की सच्ची भावना को समझने में मदद करेगी।\n",
            "\n",
            "क्या आप इस फिल्म को देखना चाहते हैं?\n"
          ]
        }
      ]
    },
    {
      "cell_type": "code",
      "source": [
        "from langchain_core.messages import HumanMessage, SystemMessage\n",
        "\n",
        "messages = [\n",
        "    SystemMessage(\"Translate the following from English to Italian\"),\n",
        "    HumanMessage(\"hi\")\n",
        "]\n",
        "\n",
        "response = model.invoke(messages)\n",
        "print(response.content)"
      ],
      "metadata": {
        "colab": {
          "base_uri": "https://localhost:8080/"
        },
        "id": "4qYxY8qHl_vc",
        "outputId": "aca5d52c-368d-4f6c-9f89-171a2b7f6f5d"
      },
      "execution_count": 20,
      "outputs": [
        {
          "output_type": "stream",
          "name": "stdout",
          "text": [
            "Ciao!\n"
          ]
        }
      ]
    },
    {
      "cell_type": "code",
      "source": [
        "from langchain_core.prompts import ChatPromptTemplate\n",
        "\n",
        "system_template = \"Translate the following from english to {language}\"\n",
        "\n",
        "prompt_template = ChatPromptTemplate.from_messages(\n",
        "    [\n",
        "        (\"system\", system_template),\n",
        "        (\"user\", \"{text}\")\n",
        "    ]\n",
        ")"
      ],
      "metadata": {
        "id": "c-ZYnclRm-4W"
      },
      "execution_count": 21,
      "outputs": []
    },
    {
      "cell_type": "code",
      "source": [
        "prompt = prompt_template.invoke(\n",
        "    {\n",
        "        \"language\": \"hindi\",\n",
        "        \"text\": \"what is you age\"\n",
        "    }\n",
        ")\n",
        "\n",
        "prompt"
      ],
      "metadata": {
        "colab": {
          "base_uri": "https://localhost:8080/"
        },
        "id": "NkNBUvvjnoLO",
        "outputId": "8c600073-49ce-49dd-f5cc-c18cbc2181a3"
      },
      "execution_count": 22,
      "outputs": [
        {
          "output_type": "execute_result",
          "data": {
            "text/plain": [
              "ChatPromptValue(messages=[SystemMessage(content='Translate the following from english to hindi', additional_kwargs={}, response_metadata={}), HumanMessage(content='what is you age', additional_kwargs={}, response_metadata={})])"
            ]
          },
          "metadata": {},
          "execution_count": 22
        }
      ]
    },
    {
      "cell_type": "code",
      "source": [
        "model.invoke(prompt)"
      ],
      "metadata": {
        "colab": {
          "base_uri": "https://localhost:8080/"
        },
        "id": "jn-U67rfnze_",
        "outputId": "97cfb5e7-3d82-4550-aaf2-65d34824ecea"
      },
      "execution_count": 23,
      "outputs": [
        {
          "output_type": "execute_result",
          "data": {
            "text/plain": [
              "AIMessage(content='आपकी उम्र क्या है?', additional_kwargs={}, response_metadata={'token_usage': {'completion_tokens': 11, 'prompt_tokens': 46, 'total_tokens': 57, 'completion_time': 0.04, 'prompt_time': 0.002315293, 'queue_time': 0.200313195, 'total_time': 0.042315293}, 'model_name': 'llama-3.3-70b-versatile', 'system_fingerprint': 'fp_90c1d253ff', 'finish_reason': 'stop', 'logprobs': None}, id='run-4025aaa9-6892-4892-a2ce-a51fd7867af1-0', usage_metadata={'input_tokens': 46, 'output_tokens': 11, 'total_tokens': 57})"
            ]
          },
          "metadata": {},
          "execution_count": 23
        }
      ]
    },
    {
      "cell_type": "code",
      "source": [
        "from langchain_core.prompts import PromptTemplate\n",
        "\n",
        "prompt_template = PromptTemplate.from_template(\"Tell me a joke about {topic}\")\n",
        "\n",
        "prompt = prompt_template.invoke({\"topic\": \"cats\"})\n",
        "\n",
        "response = model.invoke(prompt)\n",
        "\n",
        "response.content"
      ],
      "metadata": {
        "colab": {
          "base_uri": "https://localhost:8080/",
          "height": 35
        },
        "id": "KQlJztyHoZyM",
        "outputId": "236db969-493f-48af-e182-e9a735b19da1"
      },
      "execution_count": 24,
      "outputs": [
        {
          "output_type": "execute_result",
          "data": {
            "text/plain": [
              "'Why did the cat join a band? Because it wanted to be a purr-cussionist.'"
            ],
            "application/vnd.google.colaboratory.intrinsic+json": {
              "type": "string"
            }
          },
          "metadata": {},
          "execution_count": 24
        }
      ]
    },
    {
      "cell_type": "code",
      "source": [
        "movie_title_template = PromptTemplate.from_template(\"Suggest me a title of language {language} and of genre {genre} make sure to give only one suggestion\")\n",
        "\n",
        "movie_title_prompt = movie_title_template.invoke({\n",
        "    \"language\": \"hindi\",\n",
        "    \"genre\": \"comedy\"\n",
        "})\n",
        "\n",
        "response = model.invoke(movie_title_prompt)\n",
        "\n",
        "print(response.content)"
      ],
      "metadata": {
        "colab": {
          "base_uri": "https://localhost:8080/"
        },
        "id": "k6R9a7QDowkN",
        "outputId": "94c14ef0-56e5-4fe3-b041-3acb59724491"
      },
      "execution_count": 43,
      "outputs": [
        {
          "output_type": "stream",
          "name": "stdout",
          "text": [
            "\"Golmaal\"\n"
          ]
        }
      ]
    },
    {
      "cell_type": "code",
      "source": [
        "from langchain_core.output_parsers import StrOutputParser\n",
        "\n",
        "movie_title_chain = movie_title_template | model | StrOutputParser()\n",
        "\n",
        "response = movie_title_chain.invoke({\"language\": \"english\", \"genre\":\"horror\"})\n",
        "\n",
        "print(response)"
      ],
      "metadata": {
        "colab": {
          "base_uri": "https://localhost:8080/"
        },
        "id": "LYfVNlBDpYZI",
        "outputId": "f03bf925-f751-474a-dc2c-c77dffc78e1d"
      },
      "execution_count": 44,
      "outputs": [
        {
          "output_type": "stream",
          "name": "stdout",
          "text": [
            "\"The Shattered Reflection\"\n"
          ]
        }
      ]
    },
    {
      "cell_type": "code",
      "source": [
        "movie_summary_prompt = PromptTemplate.from_template(\"Give me 2-3 line summary of the movie {movie_title}\")"
      ],
      "metadata": {
        "id": "uuzHW4emplRo"
      },
      "execution_count": 45,
      "outputs": []
    },
    {
      "cell_type": "code",
      "source": [
        "from langchain_core.runnables import RunnableLambda\n",
        "from langchain_core.callbacks.streaming_stdout import StreamingStdOutCallbackHandler\n",
        "\n",
        "print_title_step = RunnableLambda(lambda x : print(x[\"movie_title\"]))\n",
        "\n",
        "composed_chain = {\"movie_title\": movie_title_chain} | print_title_step | movie_summary_prompt | model | StrOutputParser()\n",
        "\n",
        "response = composed_chain.invoke({\"language\": \"english\", \"genre\":\"horror\"}, config={\"callbacks\":[StreamingStdOutCallbackHandler()]})\n",
        "\n",
        "response"
      ],
      "metadata": {
        "colab": {
          "base_uri": "https://localhost:8080/",
          "height": 70
        },
        "id": "HtKEW6Gap7B_",
        "outputId": "8db76e68-98c4-4e13-9b79-f82121acaa97"
      },
      "execution_count": 50,
      "outputs": [
        {
          "output_type": "stream",
          "name": "stdout",
          "text": [
            "\"The Shining\"\n"
          ]
        },
        {
          "output_type": "execute_result",
          "data": {
            "text/plain": [
              "'There is no movie titled \"None\". It seems you may have provided an incorrect or non-existent title. If you could provide a correct title, I\\'d be happy to give you a summary of the movie.'"
            ],
            "application/vnd.google.colaboratory.intrinsic+json": {
              "type": "string"
            }
          },
          "metadata": {},
          "execution_count": 50
        }
      ]
    }
  ]
}