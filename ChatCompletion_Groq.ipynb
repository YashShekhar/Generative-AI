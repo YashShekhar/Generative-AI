{
  "nbformat": 4,
  "nbformat_minor": 0,
  "metadata": {
    "colab": {
      "provenance": [],
      "authorship_tag": "ABX9TyMdlquFPjyyxihVZMTczHir",
      "include_colab_link": true
    },
    "kernelspec": {
      "name": "python3",
      "display_name": "Python 3"
    },
    "language_info": {
      "name": "python"
    }
  },
  "cells": [
    {
      "cell_type": "markdown",
      "metadata": {
        "id": "view-in-github",
        "colab_type": "text"
      },
      "source": [
        "<a href=\"https://colab.research.google.com/github/YashShekhar/Generative-AI/blob/main/ChatCompletion_Groq.ipynb\" target=\"_parent\"><img src=\"https://colab.research.google.com/assets/colab-badge.svg\" alt=\"Open In Colab\"/></a>"
      ]
    },
    {
      "cell_type": "markdown",
      "source": [
        "# Use OpenAI SDK with Groq API"
      ],
      "metadata": {
        "id": "Oj1ezW3mYGHS"
      }
    },
    {
      "cell_type": "markdown",
      "source": [
        "## Install openai"
      ],
      "metadata": {
        "id": "KI7uj0nOZAUf"
      }
    },
    {
      "cell_type": "code",
      "execution_count": 1,
      "metadata": {
        "colab": {
          "base_uri": "https://localhost:8080/"
        },
        "id": "UsWhCZ0ULqo5",
        "outputId": "ae3c1054-2e0a-4e55-e787-a491bfc92342"
      },
      "outputs": [
        {
          "output_type": "stream",
          "name": "stdout",
          "text": [
            "Requirement already satisfied: openai in /usr/local/lib/python3.11/dist-packages (1.61.1)\n",
            "Requirement already satisfied: anyio<5,>=3.5.0 in /usr/local/lib/python3.11/dist-packages (from openai) (3.7.1)\n",
            "Requirement already satisfied: distro<2,>=1.7.0 in /usr/local/lib/python3.11/dist-packages (from openai) (1.9.0)\n",
            "Requirement already satisfied: httpx<1,>=0.23.0 in /usr/local/lib/python3.11/dist-packages (from openai) (0.28.1)\n",
            "Requirement already satisfied: jiter<1,>=0.4.0 in /usr/local/lib/python3.11/dist-packages (from openai) (0.9.0)\n",
            "Requirement already satisfied: pydantic<3,>=1.9.0 in /usr/local/lib/python3.11/dist-packages (from openai) (2.10.6)\n",
            "Requirement already satisfied: sniffio in /usr/local/lib/python3.11/dist-packages (from openai) (1.3.1)\n",
            "Requirement already satisfied: tqdm>4 in /usr/local/lib/python3.11/dist-packages (from openai) (4.67.1)\n",
            "Requirement already satisfied: typing-extensions<5,>=4.11 in /usr/local/lib/python3.11/dist-packages (from openai) (4.12.2)\n",
            "Requirement already satisfied: idna>=2.8 in /usr/local/lib/python3.11/dist-packages (from anyio<5,>=3.5.0->openai) (3.10)\n",
            "Requirement already satisfied: certifi in /usr/local/lib/python3.11/dist-packages (from httpx<1,>=0.23.0->openai) (2025.1.31)\n",
            "Requirement already satisfied: httpcore==1.* in /usr/local/lib/python3.11/dist-packages (from httpx<1,>=0.23.0->openai) (1.0.7)\n",
            "Requirement already satisfied: h11<0.15,>=0.13 in /usr/local/lib/python3.11/dist-packages (from httpcore==1.*->httpx<1,>=0.23.0->openai) (0.14.0)\n",
            "Requirement already satisfied: annotated-types>=0.6.0 in /usr/local/lib/python3.11/dist-packages (from pydantic<3,>=1.9.0->openai) (0.7.0)\n",
            "Requirement already satisfied: pydantic-core==2.27.2 in /usr/local/lib/python3.11/dist-packages (from pydantic<3,>=1.9.0->openai) (2.27.2)\n"
          ]
        }
      ],
      "source": [
        "!pip install openai"
      ]
    },
    {
      "cell_type": "markdown",
      "source": [
        "## Upgrade openai"
      ],
      "metadata": {
        "id": "8fvxRTwjZDwT"
      }
    },
    {
      "cell_type": "code",
      "source": [
        "!pip install --upgrade openai"
      ],
      "metadata": {
        "colab": {
          "base_uri": "https://localhost:8080/"
        },
        "id": "MUDmhZHMQIU-",
        "outputId": "b01df699-b3fd-47cc-e1cf-a7b72e2d318c"
      },
      "execution_count": 2,
      "outputs": [
        {
          "output_type": "stream",
          "name": "stdout",
          "text": [
            "Requirement already satisfied: openai in /usr/local/lib/python3.11/dist-packages (1.61.1)\n",
            "Collecting openai\n",
            "  Downloading openai-1.66.3-py3-none-any.whl.metadata (25 kB)\n",
            "Requirement already satisfied: anyio<5,>=3.5.0 in /usr/local/lib/python3.11/dist-packages (from openai) (3.7.1)\n",
            "Requirement already satisfied: distro<2,>=1.7.0 in /usr/local/lib/python3.11/dist-packages (from openai) (1.9.0)\n",
            "Requirement already satisfied: httpx<1,>=0.23.0 in /usr/local/lib/python3.11/dist-packages (from openai) (0.28.1)\n",
            "Requirement already satisfied: jiter<1,>=0.4.0 in /usr/local/lib/python3.11/dist-packages (from openai) (0.9.0)\n",
            "Requirement already satisfied: pydantic<3,>=1.9.0 in /usr/local/lib/python3.11/dist-packages (from openai) (2.10.6)\n",
            "Requirement already satisfied: sniffio in /usr/local/lib/python3.11/dist-packages (from openai) (1.3.1)\n",
            "Requirement already satisfied: tqdm>4 in /usr/local/lib/python3.11/dist-packages (from openai) (4.67.1)\n",
            "Requirement already satisfied: typing-extensions<5,>=4.11 in /usr/local/lib/python3.11/dist-packages (from openai) (4.12.2)\n",
            "Requirement already satisfied: idna>=2.8 in /usr/local/lib/python3.11/dist-packages (from anyio<5,>=3.5.0->openai) (3.10)\n",
            "Requirement already satisfied: certifi in /usr/local/lib/python3.11/dist-packages (from httpx<1,>=0.23.0->openai) (2025.1.31)\n",
            "Requirement already satisfied: httpcore==1.* in /usr/local/lib/python3.11/dist-packages (from httpx<1,>=0.23.0->openai) (1.0.7)\n",
            "Requirement already satisfied: h11<0.15,>=0.13 in /usr/local/lib/python3.11/dist-packages (from httpcore==1.*->httpx<1,>=0.23.0->openai) (0.14.0)\n",
            "Requirement already satisfied: annotated-types>=0.6.0 in /usr/local/lib/python3.11/dist-packages (from pydantic<3,>=1.9.0->openai) (0.7.0)\n",
            "Requirement already satisfied: pydantic-core==2.27.2 in /usr/local/lib/python3.11/dist-packages (from pydantic<3,>=1.9.0->openai) (2.27.2)\n",
            "Downloading openai-1.66.3-py3-none-any.whl (567 kB)\n",
            "\u001b[2K   \u001b[90m━━━━━━━━━━━━━━━━━━━━━━━━━━━━━━━━━━━━━━━━\u001b[0m \u001b[32m567.4/567.4 kB\u001b[0m \u001b[31m9.5 MB/s\u001b[0m eta \u001b[36m0:00:00\u001b[0m\n",
            "\u001b[?25hInstalling collected packages: openai\n",
            "  Attempting uninstall: openai\n",
            "    Found existing installation: openai 1.61.1\n",
            "    Uninstalling openai-1.61.1:\n",
            "      Successfully uninstalled openai-1.61.1\n",
            "Successfully installed openai-1.66.3\n"
          ]
        }
      ]
    },
    {
      "cell_type": "markdown",
      "source": [
        "## Import Groq API KEY from Environment"
      ],
      "metadata": {
        "id": "wWUcG2rYZHXC"
      }
    },
    {
      "cell_type": "code",
      "source": [
        "from google.colab import userdata\n",
        "apiKey = userdata.get('GROQ_API_KEY')"
      ],
      "metadata": {
        "id": "cgVMIpBFMLg3"
      },
      "execution_count": 19,
      "outputs": []
    },
    {
      "cell_type": "markdown",
      "source": [
        "## Import openai"
      ],
      "metadata": {
        "id": "-kKXrpFVZVw9"
      }
    },
    {
      "cell_type": "code",
      "source": [
        "import openai"
      ],
      "metadata": {
        "id": "n-P7WNlFMXU7"
      },
      "execution_count": 20,
      "outputs": []
    },
    {
      "cell_type": "markdown",
      "source": [
        "## Create client with Groq Credentials and Invoke chat completions API"
      ],
      "metadata": {
        "id": "9txMmuvSZcTx"
      }
    },
    {
      "cell_type": "code",
      "source": [
        "client = openai.OpenAI(\n",
        "    base_url=\"https://api.groq.com/openai/v1\",\n",
        "    api_key=apiKey\n",
        ")"
      ],
      "metadata": {
        "id": "mp0AbBVVMlki"
      },
      "execution_count": 21,
      "outputs": []
    },
    {
      "cell_type": "code",
      "source": [
        "completion = client.chat.completions.create(\n",
        "    model=\"deepseek-r1-distill-llama-70b\",\n",
        "    messages=[\n",
        "        {\n",
        "            \"role\": \"user\",\n",
        "            \"content\": \"Explain RSA256 in one sentence?\"\n",
        "        }\n",
        "    ]\n",
        ")"
      ],
      "metadata": {
        "id": "XNwizcwSMnMN"
      },
      "execution_count": 23,
      "outputs": []
    },
    {
      "cell_type": "code",
      "source": [
        "print(completion)"
      ],
      "metadata": {
        "colab": {
          "base_uri": "https://localhost:8080/"
        },
        "id": "0EgiL5BpNm1h",
        "outputId": "5c17dda8-230b-4183-edcf-238d09adfb27"
      },
      "execution_count": 24,
      "outputs": [
        {
          "output_type": "stream",
          "name": "stdout",
          "text": [
            "ChatCompletion(id='chatcmpl-deb7be94-a0b6-44dc-b4f9-86a169b5d5bf', choices=[Choice(finish_reason='stop', index=0, logprobs=None, message=ChatCompletionMessage(content=\"<think>\\nOkay, so I need to explain RSA256 in one sentence. Hmm, I remember RSA is a type of encryption, right? It's asymmetric, which means it uses two keys: one for encrypting and another for decrypting. I think it's named after its creators, Rivest, Shamir, and Adleman. \\n\\nWait, what's the 256 part? Oh, that's probably the key size. But wait, isn't RSA usually associated with 1024-bit or 2048-bit keys? So 256 might be a bit smaller. Maybe it's referring to the SHA-256 hash function used in the process? Because I know RSA often uses hashing for signing, like in digital signatures.\\n\\nSo putting it together, RSA256 might be an RSA encryption or signature scheme that uses a 256-bit key or perhaps uses SHA-256 for hashing. I'm not entirely sure if it's the key size or the hash function. Maybe I should check that. Oh right, in some cases, RSA with SHA-256 is referred to as RSA-256, where 256 is the hash output size. That makes sense because when creating a digital signature, the hash function is used to create a digest, and then RSA encrypts that with the private key.\\n\\nSo in one sentence, RSA256 would be an RSA-based encryption or digital signature scheme that uses the SHA-256 hash algorithm to create a 256-bit hash, which is then encrypted using RSA. Or maybe it's specifying the key size, but I think it's more about the hash function. \\n\\nWait, but RSA keys are typically larger than 256 bits. 256-bit RSA keys are considered insecure because they can be factored more easily. So it's more likely referring to the hash function used in the process. Therefore, RSA-256 probably refers to RSA combined with SHA-256 for hashing, commonly used in digital signatures to ensure data integrity and authenticity.\\n\\nSo, to sum up, RSA256 is an RSA-based encryption or digital signature method that uses the SHA-256 hashing algorithm to produce a 256-bit hash, which is then encrypted using RSA. That should cover it in one sentence.\\n</think>\\n\\nRSA256 is an RSA-based encryption or digital signature method that uses the SHA-256 hashing algorithm to produce a 256-bit hash, which is then encrypted using RSA.\", refusal=None, role='assistant', annotations=None, audio=None, function_call=None, tool_calls=None))], created=1742302119, model='deepseek-r1-distill-llama-70b', object='chat.completion', service_tier=None, system_fingerprint='fp_d7b20c4b1a', usage=CompletionUsage(completion_tokens=481, prompt_tokens=11, total_tokens=492, completion_tokens_details=None, prompt_tokens_details=None, queue_time=0.636102338, prompt_time=0.004174222, completion_time=1.749090909, total_time=1.753265131), x_groq={'id': 'req_01jpmms17ffmavk8z295npw7dq'})\n"
          ]
        }
      ]
    },
    {
      "cell_type": "code",
      "source": [
        "print(completion.choices[0].message.content)"
      ],
      "metadata": {
        "colab": {
          "base_uri": "https://localhost:8080/"
        },
        "id": "y8cVc4d_NrV6",
        "outputId": "0f39b2d0-1fcd-41a2-db4b-f53f26418288"
      },
      "execution_count": 25,
      "outputs": [
        {
          "output_type": "stream",
          "name": "stdout",
          "text": [
            "<think>\n",
            "Okay, so I need to explain RSA256 in one sentence. Hmm, I remember RSA is a type of encryption, right? It's asymmetric, which means it uses two keys: one for encrypting and another for decrypting. I think it's named after its creators, Rivest, Shamir, and Adleman. \n",
            "\n",
            "Wait, what's the 256 part? Oh, that's probably the key size. But wait, isn't RSA usually associated with 1024-bit or 2048-bit keys? So 256 might be a bit smaller. Maybe it's referring to the SHA-256 hash function used in the process? Because I know RSA often uses hashing for signing, like in digital signatures.\n",
            "\n",
            "So putting it together, RSA256 might be an RSA encryption or signature scheme that uses a 256-bit key or perhaps uses SHA-256 for hashing. I'm not entirely sure if it's the key size or the hash function. Maybe I should check that. Oh right, in some cases, RSA with SHA-256 is referred to as RSA-256, where 256 is the hash output size. That makes sense because when creating a digital signature, the hash function is used to create a digest, and then RSA encrypts that with the private key.\n",
            "\n",
            "So in one sentence, RSA256 would be an RSA-based encryption or digital signature scheme that uses the SHA-256 hash algorithm to create a 256-bit hash, which is then encrypted using RSA. Or maybe it's specifying the key size, but I think it's more about the hash function. \n",
            "\n",
            "Wait, but RSA keys are typically larger than 256 bits. 256-bit RSA keys are considered insecure because they can be factored more easily. So it's more likely referring to the hash function used in the process. Therefore, RSA-256 probably refers to RSA combined with SHA-256 for hashing, commonly used in digital signatures to ensure data integrity and authenticity.\n",
            "\n",
            "So, to sum up, RSA256 is an RSA-based encryption or digital signature method that uses the SHA-256 hashing algorithm to produce a 256-bit hash, which is then encrypted using RSA. That should cover it in one sentence.\n",
            "</think>\n",
            "\n",
            "RSA256 is an RSA-based encryption or digital signature method that uses the SHA-256 hashing algorithm to produce a 256-bit hash, which is then encrypted using RSA.\n"
          ]
        }
      ]
    }
  ]
}