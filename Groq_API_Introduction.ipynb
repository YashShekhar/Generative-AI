{
  "nbformat": 4,
  "nbformat_minor": 0,
  "metadata": {
    "colab": {
      "provenance": [],
      "authorship_tag": "ABX9TyOFPxzUxaKnaeasqtdHUG99",
      "include_colab_link": true
    },
    "kernelspec": {
      "name": "python3",
      "display_name": "Python 3"
    },
    "language_info": {
      "name": "python"
    }
  },
  "cells": [
    {
      "cell_type": "markdown",
      "metadata": {
        "id": "view-in-github",
        "colab_type": "text"
      },
      "source": [
        "<a href=\"https://colab.research.google.com/github/YashShekhar/Generative-AI/blob/main/Groq_API_Introduction.ipynb\" target=\"_parent\"><img src=\"https://colab.research.google.com/assets/colab-badge.svg\" alt=\"Open In Colab\"/></a>"
      ]
    },
    {
      "cell_type": "markdown",
      "source": [
        "# Gorq API - How to use\n",
        "---"
      ],
      "metadata": {
        "id": "Wgg0i81E6zhw"
      }
    },
    {
      "cell_type": "markdown",
      "source": [
        "## Install groq\n"
      ],
      "metadata": {
        "id": "3Olu7Rq_7WKv"
      }
    },
    {
      "cell_type": "code",
      "execution_count": null,
      "metadata": {
        "colab": {
          "base_uri": "https://localhost:8080/"
        },
        "id": "_Duf6F5e2t5q",
        "outputId": "91ca40e6-07c9-4707-d4f3-ec8066ba489d"
      },
      "outputs": [
        {
          "output_type": "stream",
          "name": "stdout",
          "text": [
            "Collecting groq\n",
            "  Downloading groq-0.19.0-py3-none-any.whl.metadata (15 kB)\n",
            "Requirement already satisfied: anyio<5,>=3.5.0 in /usr/local/lib/python3.11/dist-packages (from groq) (3.7.1)\n",
            "Requirement already satisfied: distro<2,>=1.7.0 in /usr/local/lib/python3.11/dist-packages (from groq) (1.9.0)\n",
            "Requirement already satisfied: httpx<1,>=0.23.0 in /usr/local/lib/python3.11/dist-packages (from groq) (0.28.1)\n",
            "Requirement already satisfied: pydantic<3,>=1.9.0 in /usr/local/lib/python3.11/dist-packages (from groq) (2.10.6)\n",
            "Requirement already satisfied: sniffio in /usr/local/lib/python3.11/dist-packages (from groq) (1.3.1)\n",
            "Requirement already satisfied: typing-extensions<5,>=4.10 in /usr/local/lib/python3.11/dist-packages (from groq) (4.12.2)\n",
            "Requirement already satisfied: idna>=2.8 in /usr/local/lib/python3.11/dist-packages (from anyio<5,>=3.5.0->groq) (3.10)\n",
            "Requirement already satisfied: certifi in /usr/local/lib/python3.11/dist-packages (from httpx<1,>=0.23.0->groq) (2025.1.31)\n",
            "Requirement already satisfied: httpcore==1.* in /usr/local/lib/python3.11/dist-packages (from httpx<1,>=0.23.0->groq) (1.0.7)\n",
            "Requirement already satisfied: h11<0.15,>=0.13 in /usr/local/lib/python3.11/dist-packages (from httpcore==1.*->httpx<1,>=0.23.0->groq) (0.14.0)\n",
            "Requirement already satisfied: annotated-types>=0.6.0 in /usr/local/lib/python3.11/dist-packages (from pydantic<3,>=1.9.0->groq) (0.7.0)\n",
            "Requirement already satisfied: pydantic-core==2.27.2 in /usr/local/lib/python3.11/dist-packages (from pydantic<3,>=1.9.0->groq) (2.27.2)\n",
            "Downloading groq-0.19.0-py3-none-any.whl (122 kB)\n",
            "\u001b[2K   \u001b[90m━━━━━━━━━━━━━━━━━━━━━━━━━━━━━━━━━━━━━━━━\u001b[0m \u001b[32m122.2/122.2 kB\u001b[0m \u001b[31m2.9 MB/s\u001b[0m eta \u001b[36m0:00:00\u001b[0m\n",
            "\u001b[?25hInstalling collected packages: groq\n",
            "Successfully installed groq-0.19.0\n"
          ]
        }
      ],
      "source": [
        "!pip install groq"
      ]
    },
    {
      "cell_type": "markdown",
      "source": [
        "## Set GROQ_API_KEY\n",
        "Generate GROQ API Key from <a href=\"https://console.groq.com/\"> Groq DEV Console</a> and add it secrets Google colab."
      ],
      "metadata": {
        "id": "KPmpfZ787bch"
      }
    },
    {
      "cell_type": "code",
      "source": [
        "from google.colab import userdata\n",
        "apiKey = userdata.get('GROQ_API_KEY')"
      ],
      "metadata": {
        "id": "VSet8GOf3P1a"
      },
      "execution_count": null,
      "outputs": []
    },
    {
      "cell_type": "markdown",
      "source": [
        "## Import os and groq modules"
      ],
      "metadata": {
        "id": "bgSVJucE77zA"
      }
    },
    {
      "cell_type": "code",
      "source": [
        "import os\n",
        "from groq import Groq"
      ],
      "metadata": {
        "id": "YM13Eo6H3c0Y"
      },
      "execution_count": null,
      "outputs": []
    },
    {
      "cell_type": "markdown",
      "source": [
        "## Create Groq client"
      ],
      "metadata": {
        "id": "UVqeyW0a8Cqx"
      }
    },
    {
      "cell_type": "code",
      "source": [
        "client = Groq(\n",
        "    api_key = apiKey\n",
        ")"
      ],
      "metadata": {
        "id": "W-ZJBqwJ3s_r"
      },
      "execution_count": null,
      "outputs": []
    },
    {
      "cell_type": "markdown",
      "source": [
        "## Call Chat Completion API"
      ],
      "metadata": {
        "id": "-MAUXAFI8JbW"
      }
    },
    {
      "cell_type": "code",
      "source": [
        "chat_completion = client.chat.completions.create(\n",
        "    messages = [\n",
        "        {\n",
        "            \"role\": \"user\",\n",
        "            \"content\": \"Explain the value of life\"\n",
        "        }\n",
        "    ],\n",
        "    model=\"llama-3.3-70b-versatile\"\n",
        ")"
      ],
      "metadata": {
        "id": "78_BI1a73wcc"
      },
      "execution_count": null,
      "outputs": []
    },
    {
      "cell_type": "markdown",
      "source": [
        "## Print Client Response"
      ],
      "metadata": {
        "id": "IfJ0PN2r8S2d"
      }
    },
    {
      "cell_type": "code",
      "source": [
        "print(chat_completion)"
      ],
      "metadata": {
        "colab": {
          "base_uri": "https://localhost:8080/"
        },
        "id": "8Asv1tJ-4eGf",
        "outputId": "420e8f9d-52fe-49bb-c0c4-9d7000e2d95f"
      },
      "execution_count": null,
      "outputs": [
        {
          "output_type": "stream",
          "name": "stdout",
          "text": [
            "ChatCompletion(id='chatcmpl-23ccc7a9-b16a-4d2f-846b-14c53be9da23', choices=[Choice(finish_reason='stop', index=0, logprobs=None, message=ChatCompletionMessage(content=\"The value of life is a complex and multifaceted concept that has been debated and explored by philosophers, theologians, scientists, and many others across various cultures and disciplines. The value of life can be understood in different ways, and there is no one definitive answer. Here are some perspectives on the value of life:\\n\\n1. **Intrinsic value**: This perspective posits that life has inherent value, regardless of its utility or purpose. Every human being has a unique existence, experiences, and contributions to make, which give life its intrinsic value. This view emphasizes the importance of respecting and preserving human life, simply because it exists.\\n2. **Utilitarian value**: From a utilitarian perspective, the value of life is measured by its usefulness or the benefits it provides to others. This view considers the value of life in terms of its ability to contribute to the greater good, such as through work, relationships, or social contributions. The value of life is thus tied to its functional or practical purposes.\\n3. **Sentient value**: This perspective emphasizes the value of life as a sentient experience. The capacity to feel emotions, perceive the world, and have conscious experiences gives life its value. This view acknowledges that life is precious because it allows us to experience joy, love, and connection with others.\\n4. **Existential value**: Existentialism suggests that life has value because it is a unique and irreplaceable experience. Every individual has the freedom to create their own meaning and purpose in life, which gives life its value. This perspective emphasizes the importance of personal responsibility, agency, and self-creation.\\n5. **Religious or spiritual value**: Many religious and spiritual traditions attribute value to life based on its connection to a higher power, the divine, or an afterlife. Life is seen as a gift from a higher authority, and its value is tied to its spiritual significance and the possibility of an afterlife.\\n6. **Evolutionary value**: From a biological perspective, the value of life is linked to its ability to survive, adapt, and reproduce. Life's value lies in its capacity to perpetuate itself and contribute to the evolution of species.\\n7. **Social and cultural value**: Life's value can also be understood in terms of its social and cultural significance. Human relationships, community, and cultural heritage give life its value and meaning. This perspective recognizes that life is not just an individual experience but also a shared, collective one.\\n\\nWhile these perspectives offer different insights into the value of life, they are not mutually exclusive. The value of life is likely a complex interplay of multiple factors, including its intrinsic, utilitarian, sentient, existential, religious, evolutionary, and social aspects.\\n\\nUltimately, the value of life is a deeply personal and subjective matter, and individuals may attribute value to life based on their unique experiences, beliefs, and values. However, by considering these various perspectives, we can gain a deeper appreciation for the complexity and richness of human existence.\", role='assistant', function_call=None, reasoning=None, tool_calls=None))], created=1742211497, model='llama-3.3-70b-versatile', object='chat.completion', system_fingerprint='fp_2ddfbb0da0', usage=CompletionUsage(completion_tokens=601, prompt_tokens=41, total_tokens=642, completion_time=2.185454545, prompt_time=0.024839714, queue_time=2.843306693, total_time=2.210294259), x_groq={'id': 'req_01jphybcjjerhbcycvxq8twh63'})\n"
          ]
        }
      ]
    },
    {
      "cell_type": "markdown",
      "source": [
        "## Print Content of Client Response"
      ],
      "metadata": {
        "id": "Myb9GIpv8YhT"
      }
    },
    {
      "cell_type": "code",
      "source": [
        "print(chat_completion.choices[0].message.content)"
      ],
      "metadata": {
        "colab": {
          "base_uri": "https://localhost:8080/"
        },
        "id": "rEweGiEG4ipQ",
        "outputId": "a713c640-842b-48c4-df40-7786a08ce771"
      },
      "execution_count": null,
      "outputs": [
        {
          "output_type": "stream",
          "name": "stdout",
          "text": [
            "The value of life is a complex and multifaceted concept that has been debated and explored by philosophers, theologians, scientists, and many others across various cultures and disciplines. The value of life can be understood in different ways, and there is no one definitive answer. Here are some perspectives on the value of life:\n",
            "\n",
            "1. **Intrinsic value**: This perspective posits that life has inherent value, regardless of its utility or purpose. Every human being has a unique existence, experiences, and contributions to make, which give life its intrinsic value. This view emphasizes the importance of respecting and preserving human life, simply because it exists.\n",
            "2. **Utilitarian value**: From a utilitarian perspective, the value of life is measured by its usefulness or the benefits it provides to others. This view considers the value of life in terms of its ability to contribute to the greater good, such as through work, relationships, or social contributions. The value of life is thus tied to its functional or practical purposes.\n",
            "3. **Sentient value**: This perspective emphasizes the value of life as a sentient experience. The capacity to feel emotions, perceive the world, and have conscious experiences gives life its value. This view acknowledges that life is precious because it allows us to experience joy, love, and connection with others.\n",
            "4. **Existential value**: Existentialism suggests that life has value because it is a unique and irreplaceable experience. Every individual has the freedom to create their own meaning and purpose in life, which gives life its value. This perspective emphasizes the importance of personal responsibility, agency, and self-creation.\n",
            "5. **Religious or spiritual value**: Many religious and spiritual traditions attribute value to life based on its connection to a higher power, the divine, or an afterlife. Life is seen as a gift from a higher authority, and its value is tied to its spiritual significance and the possibility of an afterlife.\n",
            "6. **Evolutionary value**: From a biological perspective, the value of life is linked to its ability to survive, adapt, and reproduce. Life's value lies in its capacity to perpetuate itself and contribute to the evolution of species.\n",
            "7. **Social and cultural value**: Life's value can also be understood in terms of its social and cultural significance. Human relationships, community, and cultural heritage give life its value and meaning. This perspective recognizes that life is not just an individual experience but also a shared, collective one.\n",
            "\n",
            "While these perspectives offer different insights into the value of life, they are not mutually exclusive. The value of life is likely a complex interplay of multiple factors, including its intrinsic, utilitarian, sentient, existential, religious, evolutionary, and social aspects.\n",
            "\n",
            "Ultimately, the value of life is a deeply personal and subjective matter, and individuals may attribute value to life based on their unique experiences, beliefs, and values. However, by considering these various perspectives, we can gain a deeper appreciation for the complexity and richness of human existence.\n"
          ]
        }
      ]
    }
  ]
}